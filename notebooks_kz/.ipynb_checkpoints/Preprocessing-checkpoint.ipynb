{
 "cells": [
  {
   "cell_type": "markdown",
   "metadata": {},
   "source": [
    "## Import libraries and load data"
   ]
  },
  {
   "cell_type": "code",
   "execution_count": 455,
   "metadata": {},
   "outputs": [],
   "source": [
    "import numpy as np\n",
    "import pandas as pd\n",
    "import matplotlib.pyplot as plt\n",
    "import math\n",
    "import pickle\n",
    "import warnings\n",
    "\n",
    "warnings.filterwarnings('ignore')\n",
    "%matplotlib inline"
   ]
  },
  {
   "cell_type": "code",
   "execution_count": 682,
   "metadata": {
    "collapsed": true
   },
   "outputs": [],
   "source": [
    "# Read Data\n",
    "\n",
    "filepath = '/Users/kevinzhao/Kaggle/Recruit_Restaurant/inputs/'\n",
    "\n",
    "air_reserve = pd.read_csv(filepath + 'air_reserve.csv')\n",
    "hpg_reserve = pd.read_csv(filepath + 'hpg_reserve.csv')\n",
    "air_store_info = pd.read_csv(filepath + 'air_store_info.csv')\n",
    "hpg_store_info = pd.read_csv(filepath + 'hpg_store_info.csv')\n",
    "air_visit_data = pd.read_csv(filepath + 'air_visit_data.csv')\n",
    "\n",
    "date_info = pd.read_csv(filepath + 'date_info.csv')\n",
    "store_id_relation = pd.read_csv(filepath + 'store_id_relation.csv')\n",
    "sample_submission = pd.read_csv(filepath + 'sample_submission.csv')"
   ]
  },
  {
   "cell_type": "markdown",
   "metadata": {},
   "source": [
    "## Merge dataframes"
   ]
  },
  {
   "cell_type": "code",
   "execution_count": 683,
   "metadata": {
    "collapsed": true
   },
   "outputs": [],
   "source": [
    "# Join Store reservation and store info dataframes \n",
    "\n",
    "air_data = air_reserve.merge(air_store_info, on='air_store_id', how='left')\n",
    "hpg_data = hpg_reserve.merge(hpg_store_info, on='hpg_store_id', how='left')"
   ]
  },
  {
   "cell_type": "code",
   "execution_count": 684,
   "metadata": {
    "collapsed": true
   },
   "outputs": [],
   "source": [
    "# Add hpg ids to air data and air ids to hpg data\n",
    "\n",
    "air_data = air_data.merge(store_id_relation, on ='air_store_id', how='left')\n",
    "hpg_data = hpg_data.merge(store_id_relation, on ='hpg_store_id', how='left')"
   ]
  },
  {
   "cell_type": "code",
   "execution_count": 685,
   "metadata": {
    "collapsed": true
   },
   "outputs": [],
   "source": [
    "# Merge data sets \n",
    "\n",
    "air_data_full = air_data.merge(hpg_data, on =['air_store_id', 'reserve_datetime', 'visit_datetime'], how='left')\n",
    "data_full = hpg_data.merge(air_data, on = ['hpg_store_id', 'reserve_datetime', 'visit_datetime'], how='outer')"
   ]
  },
  {
   "cell_type": "code",
   "execution_count": 460,
   "metadata": {},
   "outputs": [
    {
     "data": {
      "text/plain": [
       "((92427, 15), (2088053, 15))"
      ]
     },
     "execution_count": 460,
     "metadata": {},
     "output_type": "execute_result"
    }
   ],
   "source": [
    "air_data_full.shape, data_full.shape"
   ]
  },
  {
   "cell_type": "markdown",
   "metadata": {
    "collapsed": true
   },
   "source": [
    "Not all air store has a hpg store and vice versa...must combine both dataframes after imputation"
   ]
  },
  {
   "cell_type": "code",
   "execution_count": 533,
   "metadata": {},
   "outputs": [
    {
     "name": "stdout",
     "output_type": "stream",
     "text": [
      "(56114, 15)\n",
      "(0, 15)\n",
      "(31573, 15)\n",
      "(4740, 15)\n"
     ]
    }
   ],
   "source": [
    "print(air_data_full[(air_data_full.hpg_store_id_x.isnull()==True) & (air_data_full.hpg_store_id_y.isnull()==True)].shape)\n",
    "print(air_data_full[(air_data_full.hpg_store_id_x.isnull()==True) & (air_data_full.hpg_store_id_y.isnull()==False)].shape)\n",
    "print(air_data_full[(air_data_full.hpg_store_id_x.isnull()==False) & (air_data_full.hpg_store_id_y.isnull()==True)].shape)\n",
    "print(air_data_full[(air_data_full.hpg_store_id_x.isnull()==False) & (air_data_full.hpg_store_id_y.isnull()==False)].shape)"
   ]
  },
  {
   "cell_type": "code",
   "execution_count": 534,
   "metadata": {},
   "outputs": [
    {
     "data": {
      "text/html": [
       "<div>\n",
       "<style scoped>\n",
       "    .dataframe tbody tr th:only-of-type {\n",
       "        vertical-align: middle;\n",
       "    }\n",
       "\n",
       "    .dataframe tbody tr th {\n",
       "        vertical-align: top;\n",
       "    }\n",
       "\n",
       "    .dataframe thead th {\n",
       "        text-align: right;\n",
       "    }\n",
       "</style>\n",
       "<table border=\"1\" class=\"dataframe\">\n",
       "  <thead>\n",
       "    <tr style=\"text-align: right;\">\n",
       "      <th></th>\n",
       "      <th>air_store_id</th>\n",
       "      <th>visit_datetime</th>\n",
       "      <th>reserve_datetime</th>\n",
       "      <th>reserve_visitors_x</th>\n",
       "      <th>air_genre_name</th>\n",
       "      <th>air_area_name</th>\n",
       "      <th>latitude_x</th>\n",
       "      <th>longitude_x</th>\n",
       "      <th>hpg_store_id_x</th>\n",
       "      <th>hpg_store_id_y</th>\n",
       "      <th>reserve_visitors_y</th>\n",
       "      <th>hpg_genre_name</th>\n",
       "      <th>hpg_area_name</th>\n",
       "      <th>latitude_y</th>\n",
       "      <th>longitude_y</th>\n",
       "    </tr>\n",
       "  </thead>\n",
       "  <tbody>\n",
       "  </tbody>\n",
       "</table>\n",
       "</div>"
      ],
      "text/plain": [
       "Empty DataFrame\n",
       "Columns: [air_store_id, visit_datetime, reserve_datetime, reserve_visitors_x, air_genre_name, air_area_name, latitude_x, longitude_x, hpg_store_id_x, hpg_store_id_y, reserve_visitors_y, hpg_genre_name, hpg_area_name, latitude_y, longitude_y]\n",
       "Index: []"
      ]
     },
     "execution_count": 534,
     "metadata": {},
     "output_type": "execute_result"
    }
   ],
   "source": [
    "air_data_full[(air_data_full.hpg_store_id_x.isnull()==False) & (air_data_full.hpg_store_id_y.isnull()==False)][air_data_full.hpg_store_id_x!=air_data_full.hpg_store_id_y]"
   ]
  },
  {
   "cell_type": "markdown",
   "metadata": {},
   "source": [
    "hpg_store_id_y always matches hpg_store_id_x when the value is not NaN"
   ]
  },
  {
   "cell_type": "code",
   "execution_count": 686,
   "metadata": {},
   "outputs": [],
   "source": [
    "# Rename columns\n",
    "air_data_full = air_data_full.rename(columns= {'reserve_visitors_x' : 'air_reserve_visitors', 'latitude_x': 'latitude',\n",
    "                                              'longitude_x':'longitude', 'reserve_visitors_y': 'hpg_reserve_visitors',\n",
    "                                              'hpg_store_id_x':'hpg_store_id'})\n",
    "\n",
    "# Drop redundant columns\n",
    "air_data_full = air_data_full.drop(columns={'hpg_store_id_y', 'latitude_y', 'longitude_y'})"
   ]
  },
  {
   "cell_type": "code",
   "execution_count": 536,
   "metadata": {},
   "outputs": [
    {
     "name": "stdout",
     "output_type": "stream",
     "text": [
      "(0, 12)\n",
      "(0, 12)\n",
      "(90284, 12)\n",
      "(2143, 12)\n"
     ]
    }
   ],
   "source": [
    "print(air_data_full[(air_data_full.air_area_name.isnull()==True) & (air_data_full.hpg_area_name.isnull()==True)].shape)\n",
    "print(air_data_full[(air_data_full.air_area_name.isnull()==True) & (air_data_full.hpg_area_name.isnull()==False)].shape)\n",
    "print(air_data_full[(air_data_full.air_area_name.isnull()==False) & (air_data_full.hpg_area_name.isnull()==True)].shape)\n",
    "print(air_data_full[(air_data_full.air_area_name.isnull()==False) & (air_data_full.hpg_area_name.isnull()==False)].shape)"
   ]
  },
  {
   "cell_type": "markdown",
   "metadata": {},
   "source": [
    "`air_area_name` is always present when `hpg_area_name` is present. Most data has `air_area_name` but not `hpg_area_name`."
   ]
  },
  {
   "cell_type": "code",
   "execution_count": 687,
   "metadata": {
    "collapsed": true
   },
   "outputs": [],
   "source": [
    "#Drop hpg_area_name column because no information is added\n",
    "air_data_full = air_data_full.drop(columns={'hpg_area_name'})"
   ]
  },
  {
   "cell_type": "code",
   "execution_count": 538,
   "metadata": {},
   "outputs": [
    {
     "data": {
      "text/plain": [
       "Index(['air_store_id', 'visit_datetime', 'reserve_datetime',\n",
       "       'air_reserve_visitors', 'air_genre_name', 'air_area_name', 'latitude',\n",
       "       'longitude', 'hpg_store_id', 'hpg_reserve_visitors', 'hpg_genre_name'],\n",
       "      dtype='object')"
      ]
     },
     "execution_count": 538,
     "metadata": {},
     "output_type": "execute_result"
    }
   ],
   "source": [
    "air_data_full.columns"
   ]
  },
  {
   "cell_type": "markdown",
   "metadata": {},
   "source": [
    "## Impute missing values"
   ]
  },
  {
   "cell_type": "markdown",
   "metadata": {},
   "source": [
    "Impute missing `hpg_reserve_visitors` values as `air_reserve_visitors`"
   ]
  },
  {
   "cell_type": "code",
   "execution_count": 539,
   "metadata": {
    "collapsed": true
   },
   "outputs": [],
   "source": [
    "# air_data_full['hpg_reserve_visitors'] = air_data_full.apply(\n",
    "#     lambda row: np.int64(row['air_reserve_visitors']) if math.isnan(row['hpg_reserve_visitors'])==True \n",
    "#     else np.int64(row['hpg_reserve_visitors']),\n",
    "#     axis=1)"
   ]
  },
  {
   "cell_type": "markdown",
   "metadata": {},
   "source": [
    "Impute missing `hpg_reserve_visitors` values as 0"
   ]
  },
  {
   "cell_type": "code",
   "execution_count": 688,
   "metadata": {
    "collapsed": true
   },
   "outputs": [],
   "source": [
    "air_data_full['hpg_reserve_visitors'] = air_data_full.apply(\n",
    "    lambda row: 0 if math.isnan(row['hpg_reserve_visitors'])==True \n",
    "    else np.int64(row['hpg_reserve_visitors']),\n",
    "    axis=1)"
   ]
  },
  {
   "cell_type": "markdown",
   "metadata": {},
   "source": [
    "Impute missing `hpg_genre_name` as blank"
   ]
  },
  {
   "cell_type": "code",
   "execution_count": 689,
   "metadata": {},
   "outputs": [],
   "source": [
    "air_data_full['hpg_genre_name'] = air_data_full.apply(\n",
    "    lambda row: ' ' if type(air_data_full.hpg_genre_name)!=str\n",
    "    else row['hpg_genre_name'],\n",
    "    axis=1)"
   ]
  },
  {
   "cell_type": "markdown",
   "metadata": {},
   "source": [
    "Create dataframe from `sample_submissions` to add onto `air_visit_data`"
   ]
  },
  {
   "cell_type": "code",
   "execution_count": 690,
   "metadata": {
    "scrolled": false
   },
   "outputs": [],
   "source": [
    "sample_submission.loc[:,'air_store_id'] = sample_submission.apply(\n",
    "    lambda row: str(row['id'])[:-11], axis=1)\n",
    "sample_submission.loc[:,'visit_date'] = sample_submission.apply(\n",
    "    lambda row: datetime.strptime(row['id'][-10:], '%Y-%m-%d').date(), axis=1)"
   ]
  },
  {
   "cell_type": "code",
   "execution_count": 691,
   "metadata": {},
   "outputs": [],
   "source": [
    "sample_submission.loc[:,'visitors'] = sample_submission.apply(\n",
    "    lambda row: np.nan, axis=1)"
   ]
  },
  {
   "cell_type": "code",
   "execution_count": 692,
   "metadata": {
    "collapsed": true
   },
   "outputs": [],
   "source": [
    "sample_submission.drop('id', axis=1, inplace=True)"
   ]
  },
  {
   "cell_type": "code",
   "execution_count": 693,
   "metadata": {
    "collapsed": true
   },
   "outputs": [],
   "source": [
    "#function to impute missing values from air to hpg\n",
    "def fill_air_hpg(data, feature, is_string=False):\n",
    "    \"\"\"\n",
    "    Fills missing values from one data set to another.\n",
    "    :param data: dataframe to impute\n",
    "    :param feature: feature on the dataframe to impute\n",
    "    :param is_string: True if feature is string, false if feature is float\n",
    "    \"\"\"\n",
    "    \n",
    "    feature_x = feature + '_x'\n",
    "    feature_y = feature + '_y'\n",
    "    \n",
    "    #if feature type is string like hpg_store_id, check for NaNs with type\n",
    "    if is_string == True:\n",
    "        data[feature_x] = data.apply(\n",
    "            lambda row: row[feature_y] if type(row[feature_x])!=str else row[feature_x], axis=1)\n",
    "        data[feature_y] = data.apply(\n",
    "            lambda row: row[feature_x] if type(row[feature_y])!=str else row[feature_y], axis=1)\n",
    "    #if feature type is float, check for NaNs using math.isnan()\n",
    "    else:\n",
    "        data[feature_x] = data.apply(\n",
    "            lambda row: row[feature_y] if math.isnan(row[feature_x])==True else row[feature_x], axis=1)\n",
    "        data[feature_y] = data.apply(\n",
    "            lambda row: row[feature_x] if math.isnan(row[feature_y])==True else row[feature_y], axis=1)"
   ]
  },
  {
   "cell_type": "code",
   "execution_count": 694,
   "metadata": {
    "collapsed": true
   },
   "outputs": [],
   "source": [
    "#function to impute more general missing values from air to hpg\n",
    "def fill_general(data, feature):\n",
    "    \"\"\"\n",
    "    Fills missing genre and area name from one data set to another.\n",
    "    :param data: dataframe to impute\n",
    "    :param feature: feature on the dataframe to impute\n",
    "    \"\"\"\n",
    "    \n",
    "    air_feature = 'air_'+feature\n",
    "    hpg_feature = 'hpg_'+feature\n",
    "    \n",
    "    data[air_feature] = data.apply(\n",
    "        lambda row: row[hpg_feature] if type(row[air_feature])!=str else row[air_feature], axis=1)\n",
    "    data[hpg_feature] = data.apply(\n",
    "        lambda row: row[air_feature] if type(row[hpg_feature])!=str else row[hpg_feature], axis=1)"
   ]
  },
  {
   "cell_type": "markdown",
   "metadata": {},
   "source": [
    "## Clean up features"
   ]
  },
  {
   "cell_type": "markdown",
   "metadata": {},
   "source": [
    "Reformat from string to datetime"
   ]
  },
  {
   "cell_type": "code",
   "execution_count": 695,
   "metadata": {
    "collapsed": true
   },
   "outputs": [],
   "source": [
    "from datetime import datetime\n",
    "from dateutil.parser import parse"
   ]
  },
  {
   "cell_type": "code",
   "execution_count": 696,
   "metadata": {
    "collapsed": true
   },
   "outputs": [],
   "source": [
    "air_data_full.loc[:,'visit_datetime'] = air_data_full.apply(\n",
    "    lambda row: datetime.strptime(row['visit_datetime'], '%Y-%m-%d %H:%M:%S'), axis=1)\n",
    "air_data_full.loc[:,'reserve_datetime'] = air_data_full.apply(\n",
    "    lambda row: datetime.strptime(row['reserve_datetime'], '%Y-%m-%d %H:%M:%S'), axis=1)"
   ]
  },
  {
   "cell_type": "code",
   "execution_count": 697,
   "metadata": {
    "collapsed": true
   },
   "outputs": [],
   "source": [
    "air_data_full.loc[:,'visit_date'] = air_data_full.apply(\n",
    "    lambda row: row['visit_datetime'].date(), axis=1)\n",
    "air_data_full.loc[:,'reserve_date'] = air_data_full.apply(\n",
    "    lambda row: row['reserve_datetime'].date(), axis=1)"
   ]
  },
  {
   "cell_type": "markdown",
   "metadata": {},
   "source": [
    "## Aggregate data"
   ]
  },
  {
   "cell_type": "markdown",
   "metadata": {},
   "source": [
    "Group by restaurant and visit date. Merge with total visits dataframe."
   ]
  },
  {
   "cell_type": "code",
   "execution_count": 698,
   "metadata": {},
   "outputs": [],
   "source": [
    "air_data_visits = air_data_full.loc[:,['air_store_id','hpg_store_id','visit_date','reserve_date',\n",
    "                                      'air_reserve_visitors','hpg_reserve_visitors']].groupby(\n",
    "                                        ['air_store_id','visit_date'], as_index=False).agg('sum')"
   ]
  },
  {
   "cell_type": "code",
   "execution_count": 699,
   "metadata": {
    "collapsed": true
   },
   "outputs": [],
   "source": [
    "df_air_visit_data = air_visit_data.groupby(['air_store_id','visit_date'], as_index=False).agg('max')\n",
    "df_air_visit_data['visit_date'] = df_air_visit_data.apply(\n",
    "    lambda row: datetime.strptime(row['visit_date'], '%Y-%m-%d').date(), axis=1)"
   ]
  },
  {
   "cell_type": "code",
   "execution_count": 639,
   "metadata": {},
   "outputs": [],
   "source": [
    "df_air_visit_data = pd.concat([df_air_visit_data, sample_submission])"
   ]
  },
  {
   "cell_type": "code",
   "execution_count": 640,
   "metadata": {
    "collapsed": true
   },
   "outputs": [],
   "source": [
    "df_air = air_data_visits.merge(df_air_visit_data, on=['air_store_id','visit_date'], how='outer')"
   ]
  },
  {
   "cell_type": "code",
   "execution_count": 641,
   "metadata": {
    "collapsed": true
   },
   "outputs": [],
   "source": [
    "#rename columns on date_info\n",
    "date_info = date_info.rename(columns={'calendar_date':'visit_date'})\n",
    "\n",
    "#convert datetime format\n",
    "date_info['visit_date'] = date_info.apply(\n",
    "    lambda row: datetime.strptime(row['visit_date'], '%Y-%m-%d').date(), axis=1)"
   ]
  },
  {
   "cell_type": "code",
   "execution_count": 644,
   "metadata": {
    "collapsed": true
   },
   "outputs": [],
   "source": [
    "#merge date information\n",
    "df_air = df_air.merge(date_info, on='visit_date', how='right')"
   ]
  },
  {
   "cell_type": "markdown",
   "metadata": {},
   "source": [
    "Add remaining features- genre name, area name, latitude, longitude"
   ]
  },
  {
   "cell_type": "code",
   "execution_count": 645,
   "metadata": {},
   "outputs": [],
   "source": [
    "air_features = air_data_full.loc[:,['air_store_id', 'air_genre_name', 'hpg_genre_name',\n",
    "                                    'air_area_name','latitude','longitude']].groupby(\n",
    "                                    'air_store_id', as_index=False).agg('max')"
   ]
  },
  {
   "cell_type": "code",
   "execution_count": 646,
   "metadata": {},
   "outputs": [
    {
     "data": {
      "text/html": [
       "<div>\n",
       "<style scoped>\n",
       "    .dataframe tbody tr th:only-of-type {\n",
       "        vertical-align: middle;\n",
       "    }\n",
       "\n",
       "    .dataframe tbody tr th {\n",
       "        vertical-align: top;\n",
       "    }\n",
       "\n",
       "    .dataframe thead th {\n",
       "        text-align: right;\n",
       "    }\n",
       "</style>\n",
       "<table border=\"1\" class=\"dataframe\">\n",
       "  <thead>\n",
       "    <tr style=\"text-align: right;\">\n",
       "      <th></th>\n",
       "      <th>air_store_id</th>\n",
       "      <th>visit_date</th>\n",
       "      <th>air_reserve_visitors</th>\n",
       "      <th>hpg_reserve_visitors</th>\n",
       "      <th>visitors</th>\n",
       "      <th>day_of_week</th>\n",
       "      <th>holiday_flg</th>\n",
       "      <th>air_genre_name</th>\n",
       "      <th>hpg_genre_name</th>\n",
       "      <th>air_area_name</th>\n",
       "      <th>latitude</th>\n",
       "      <th>longitude</th>\n",
       "    </tr>\n",
       "  </thead>\n",
       "  <tbody>\n",
       "    <tr>\n",
       "      <th>0</th>\n",
       "      <td>air_00a91d42b08b08d9</td>\n",
       "      <td>2016-10-31</td>\n",
       "      <td>2.0</td>\n",
       "      <td>2.0</td>\n",
       "      <td>26.0</td>\n",
       "      <td>Monday</td>\n",
       "      <td>0</td>\n",
       "      <td>Italian/French</td>\n",
       "      <td></td>\n",
       "      <td>Tōkyō-to Chiyoda-ku Kudanminami</td>\n",
       "      <td>35.694003</td>\n",
       "      <td>139.753595</td>\n",
       "    </tr>\n",
       "    <tr>\n",
       "      <th>1</th>\n",
       "      <td>air_03963426c9312048</td>\n",
       "      <td>2016-10-31</td>\n",
       "      <td>12.0</td>\n",
       "      <td>0.0</td>\n",
       "      <td>17.0</td>\n",
       "      <td>Monday</td>\n",
       "      <td>0</td>\n",
       "      <td>Izakaya</td>\n",
       "      <td></td>\n",
       "      <td>Hiroshima-ken Hiroshima-shi Kokutaijimachi</td>\n",
       "      <td>34.386245</td>\n",
       "      <td>132.455018</td>\n",
       "    </tr>\n",
       "    <tr>\n",
       "      <th>2</th>\n",
       "      <td>air_04cae7c1bc9b2a0b</td>\n",
       "      <td>2016-10-31</td>\n",
       "      <td>13.0</td>\n",
       "      <td>0.0</td>\n",
       "      <td>27.0</td>\n",
       "      <td>Monday</td>\n",
       "      <td>0</td>\n",
       "      <td>Izakaya</td>\n",
       "      <td></td>\n",
       "      <td>Hokkaidō Sapporo-shi Kotoni 2 Jō</td>\n",
       "      <td>43.074470</td>\n",
       "      <td>141.300889</td>\n",
       "    </tr>\n",
       "    <tr>\n",
       "      <th>3</th>\n",
       "      <td>air_0867f7bebad6a649</td>\n",
       "      <td>2016-10-31</td>\n",
       "      <td>2.0</td>\n",
       "      <td>0.0</td>\n",
       "      <td>12.0</td>\n",
       "      <td>Monday</td>\n",
       "      <td>0</td>\n",
       "      <td>Italian/French</td>\n",
       "      <td></td>\n",
       "      <td>Hiroshima-ken Hiroshima-shi Kokutaijimachi</td>\n",
       "      <td>34.386245</td>\n",
       "      <td>132.455018</td>\n",
       "    </tr>\n",
       "    <tr>\n",
       "      <th>4</th>\n",
       "      <td>air_08cb3c4ee6cd6a22</td>\n",
       "      <td>2016-10-31</td>\n",
       "      <td>20.0</td>\n",
       "      <td>0.0</td>\n",
       "      <td>32.0</td>\n",
       "      <td>Monday</td>\n",
       "      <td>0</td>\n",
       "      <td>Izakaya</td>\n",
       "      <td></td>\n",
       "      <td>Hyōgo-ken Kakogawa-shi Kakogawachō Kitazaike</td>\n",
       "      <td>34.756950</td>\n",
       "      <td>134.841177</td>\n",
       "    </tr>\n",
       "  </tbody>\n",
       "</table>\n",
       "</div>"
      ],
      "text/plain": [
       "           air_store_id  visit_date  air_reserve_visitors  \\\n",
       "0  air_00a91d42b08b08d9  2016-10-31                   2.0   \n",
       "1  air_03963426c9312048  2016-10-31                  12.0   \n",
       "2  air_04cae7c1bc9b2a0b  2016-10-31                  13.0   \n",
       "3  air_0867f7bebad6a649  2016-10-31                   2.0   \n",
       "4  air_08cb3c4ee6cd6a22  2016-10-31                  20.0   \n",
       "\n",
       "   hpg_reserve_visitors  visitors day_of_week  holiday_flg  air_genre_name  \\\n",
       "0                   2.0      26.0      Monday            0  Italian/French   \n",
       "1                   0.0      17.0      Monday            0         Izakaya   \n",
       "2                   0.0      27.0      Monday            0         Izakaya   \n",
       "3                   0.0      12.0      Monday            0  Italian/French   \n",
       "4                   0.0      32.0      Monday            0         Izakaya   \n",
       "\n",
       "  hpg_genre_name                                 air_area_name   latitude  \\\n",
       "0                              Tōkyō-to Chiyoda-ku Kudanminami  35.694003   \n",
       "1                   Hiroshima-ken Hiroshima-shi Kokutaijimachi  34.386245   \n",
       "2                             Hokkaidō Sapporo-shi Kotoni 2 Jō  43.074470   \n",
       "3                   Hiroshima-ken Hiroshima-shi Kokutaijimachi  34.386245   \n",
       "4                 Hyōgo-ken Kakogawa-shi Kakogawachō Kitazaike  34.756950   \n",
       "\n",
       "    longitude  \n",
       "0  139.753595  \n",
       "1  132.455018  \n",
       "2  141.300889  \n",
       "3  132.455018  \n",
       "4  134.841177  "
      ]
     },
     "execution_count": 646,
     "metadata": {},
     "output_type": "execute_result"
    }
   ],
   "source": [
    "df_air = df_air.merge(air_features, on='air_store_id', how='left')\n",
    "df_air.head()"
   ]
  },
  {
   "cell_type": "code",
   "execution_count": 647,
   "metadata": {
    "collapsed": true
   },
   "outputs": [],
   "source": [
    "# pickle.dump(df_air, open('df_air.p', 'wb'))\n",
    "df_air = pickle.load(open('df_air.p', 'rb'))"
   ]
  },
  {
   "cell_type": "code",
   "execution_count": null,
   "metadata": {
    "collapsed": true
   },
   "outputs": [],
   "source": []
  },
  {
   "cell_type": "markdown",
   "metadata": {},
   "source": [
    "## Feature Engineering"
   ]
  },
  {
   "cell_type": "markdown",
   "metadata": {},
   "source": [
    "#### Date and Time"
   ]
  },
  {
   "cell_type": "code",
   "execution_count": 490,
   "metadata": {},
   "outputs": [],
   "source": [
    "air_data_full.loc[:,'visit_year'] = air_data_full.apply(\n",
    "    lambda row: row['visit_datetime'].year, axis=1)\n",
    "air_data_full.loc[:,'visit_month'] = air_data_full.apply(\n",
    "    lambda row: row['visit_datetime'].month, axis=1)\n",
    "air_data_full.loc[:,'visit_day'] = air_data_full.apply(\n",
    "    lambda row: row['visit_datetime'].day, axis=1)\n",
    "# air_data_full.loc[:,'visit_date'] = air_data_full.apply(\n",
    "#     lambda row: row['visit_datetime'].date(), axis=1)\n",
    "air_data_full.loc[:,'visit_hour'] = air_data_full.apply(\n",
    "    lambda row: row['visit_datetime'].hour, axis=1)"
   ]
  },
  {
   "cell_type": "code",
   "execution_count": 491,
   "metadata": {},
   "outputs": [],
   "source": [
    "air_data_full.loc[:,'reserve_year'] = air_data_full.apply(\n",
    "    lambda row: row['reserve_datetime'].year, axis=1)\n",
    "air_data_full.loc[:,'reserve_month'] = air_data_full.apply(\n",
    "    lambda row: row['reserve_datetime'].month, axis=1)\n",
    "air_data_full.loc[:,'reserve_day'] = air_data_full.apply(\n",
    "    lambda row: row['reserve_datetime'].day, axis=1)\n",
    "# air_data_full.loc[:,'reserve_date'] = air_data_full.apply(\n",
    "#     lambda row: row['reserve_datetime'].date(), axis=1)\n",
    "air_data_full.loc[:,'reserve_hour'] = air_data_full.apply(\n",
    "    lambda row: row['reserve_datetime'].hour, axis=1)"
   ]
  },
  {
   "cell_type": "code",
   "execution_count": 492,
   "metadata": {},
   "outputs": [
    {
     "data": {
      "text/plain": [
       "Index(['air_store_id', 'visit_datetime', 'reserve_datetime',\n",
       "       'air_reserve_visitors', 'air_genre_name', 'air_area_name', 'latitude',\n",
       "       'longitude', 'hpg_store_id', 'hpg_reserve_visitors', 'hpg_genre_name',\n",
       "       'visit_date', 'reserve_date', 'visit_year', 'visit_month', 'visit_day',\n",
       "       'visit_hour', 'reserve_year', 'reserve_month', 'reserve_day',\n",
       "       'reserve_hour'],\n",
       "      dtype='object')"
      ]
     },
     "execution_count": 492,
     "metadata": {},
     "output_type": "execute_result"
    }
   ],
   "source": [
    "air_data_full.columns"
   ]
  },
  {
   "cell_type": "code",
   "execution_count": 493,
   "metadata": {},
   "outputs": [],
   "source": [
    "#reorder columns\n",
    "air_columns = ['air_store_id', 'hpg_store_id','visit_date','reserve_date','visit_datetime','reserve_datetime', 'air_reserve_visitors',\n",
    "               'hpg_reserve_visitors', 'air_genre_name', 'hpg_genre_name','air_area_name','latitude','longitude',\n",
    "               'visit_year','visit_month','visit_day','reserve_year','reserve_month','reserve_day','visit_hour',\n",
    "                 'reserve_hour']\n",
    "air_data_full = air_data_full[air_columns]"
   ]
  },
  {
   "cell_type": "code",
   "execution_count": 494,
   "metadata": {
    "scrolled": true
   },
   "outputs": [
    {
     "data": {
      "text/html": [
       "<div>\n",
       "<style scoped>\n",
       "    .dataframe tbody tr th:only-of-type {\n",
       "        vertical-align: middle;\n",
       "    }\n",
       "\n",
       "    .dataframe tbody tr th {\n",
       "        vertical-align: top;\n",
       "    }\n",
       "\n",
       "    .dataframe thead th {\n",
       "        text-align: right;\n",
       "    }\n",
       "</style>\n",
       "<table border=\"1\" class=\"dataframe\">\n",
       "  <thead>\n",
       "    <tr style=\"text-align: right;\">\n",
       "      <th></th>\n",
       "      <th>air_store_id</th>\n",
       "      <th>hpg_store_id</th>\n",
       "      <th>visit_date</th>\n",
       "      <th>reserve_date</th>\n",
       "      <th>visit_datetime</th>\n",
       "      <th>reserve_datetime</th>\n",
       "      <th>air_reserve_visitors</th>\n",
       "      <th>hpg_reserve_visitors</th>\n",
       "      <th>air_genre_name</th>\n",
       "      <th>hpg_genre_name</th>\n",
       "      <th>...</th>\n",
       "      <th>latitude</th>\n",
       "      <th>longitude</th>\n",
       "      <th>visit_year</th>\n",
       "      <th>visit_month</th>\n",
       "      <th>visit_day</th>\n",
       "      <th>reserve_year</th>\n",
       "      <th>reserve_month</th>\n",
       "      <th>reserve_day</th>\n",
       "      <th>visit_hour</th>\n",
       "      <th>reserve_hour</th>\n",
       "    </tr>\n",
       "  </thead>\n",
       "  <tbody>\n",
       "    <tr>\n",
       "      <th>0</th>\n",
       "      <td>air_877f79706adbfb06</td>\n",
       "      <td>NaN</td>\n",
       "      <td>2016-01-01</td>\n",
       "      <td>2016-01-01</td>\n",
       "      <td>2016-01-01 19:00:00</td>\n",
       "      <td>2016-01-01 16:00:00</td>\n",
       "      <td>1</td>\n",
       "      <td>0</td>\n",
       "      <td>Japanese food</td>\n",
       "      <td></td>\n",
       "      <td>...</td>\n",
       "      <td>35.658068</td>\n",
       "      <td>139.751599</td>\n",
       "      <td>2016</td>\n",
       "      <td>1</td>\n",
       "      <td>1</td>\n",
       "      <td>2016</td>\n",
       "      <td>1</td>\n",
       "      <td>1</td>\n",
       "      <td>19</td>\n",
       "      <td>16</td>\n",
       "    </tr>\n",
       "    <tr>\n",
       "      <th>1</th>\n",
       "      <td>air_db4b38ebe7a7ceff</td>\n",
       "      <td>hpg_bcecaa70222d94e5</td>\n",
       "      <td>2016-01-01</td>\n",
       "      <td>2016-01-01</td>\n",
       "      <td>2016-01-01 19:00:00</td>\n",
       "      <td>2016-01-01 19:00:00</td>\n",
       "      <td>3</td>\n",
       "      <td>0</td>\n",
       "      <td>Dining bar</td>\n",
       "      <td></td>\n",
       "      <td>...</td>\n",
       "      <td>34.676231</td>\n",
       "      <td>135.486059</td>\n",
       "      <td>2016</td>\n",
       "      <td>1</td>\n",
       "      <td>1</td>\n",
       "      <td>2016</td>\n",
       "      <td>1</td>\n",
       "      <td>1</td>\n",
       "      <td>19</td>\n",
       "      <td>19</td>\n",
       "    </tr>\n",
       "    <tr>\n",
       "      <th>2</th>\n",
       "      <td>air_db4b38ebe7a7ceff</td>\n",
       "      <td>hpg_bcecaa70222d94e5</td>\n",
       "      <td>2016-01-01</td>\n",
       "      <td>2016-01-01</td>\n",
       "      <td>2016-01-01 19:00:00</td>\n",
       "      <td>2016-01-01 19:00:00</td>\n",
       "      <td>6</td>\n",
       "      <td>0</td>\n",
       "      <td>Dining bar</td>\n",
       "      <td></td>\n",
       "      <td>...</td>\n",
       "      <td>34.676231</td>\n",
       "      <td>135.486059</td>\n",
       "      <td>2016</td>\n",
       "      <td>1</td>\n",
       "      <td>1</td>\n",
       "      <td>2016</td>\n",
       "      <td>1</td>\n",
       "      <td>1</td>\n",
       "      <td>19</td>\n",
       "      <td>19</td>\n",
       "    </tr>\n",
       "    <tr>\n",
       "      <th>3</th>\n",
       "      <td>air_877f79706adbfb06</td>\n",
       "      <td>NaN</td>\n",
       "      <td>2016-01-01</td>\n",
       "      <td>2016-01-01</td>\n",
       "      <td>2016-01-01 20:00:00</td>\n",
       "      <td>2016-01-01 16:00:00</td>\n",
       "      <td>2</td>\n",
       "      <td>0</td>\n",
       "      <td>Japanese food</td>\n",
       "      <td></td>\n",
       "      <td>...</td>\n",
       "      <td>35.658068</td>\n",
       "      <td>139.751599</td>\n",
       "      <td>2016</td>\n",
       "      <td>1</td>\n",
       "      <td>1</td>\n",
       "      <td>2016</td>\n",
       "      <td>1</td>\n",
       "      <td>1</td>\n",
       "      <td>20</td>\n",
       "      <td>16</td>\n",
       "    </tr>\n",
       "    <tr>\n",
       "      <th>4</th>\n",
       "      <td>air_db80363d35f10926</td>\n",
       "      <td>hpg_878cc70b1abc76f7</td>\n",
       "      <td>2016-01-01</td>\n",
       "      <td>2016-01-01</td>\n",
       "      <td>2016-01-01 20:00:00</td>\n",
       "      <td>2016-01-01 01:00:00</td>\n",
       "      <td>5</td>\n",
       "      <td>0</td>\n",
       "      <td>Dining bar</td>\n",
       "      <td></td>\n",
       "      <td>...</td>\n",
       "      <td>43.770635</td>\n",
       "      <td>142.364819</td>\n",
       "      <td>2016</td>\n",
       "      <td>1</td>\n",
       "      <td>1</td>\n",
       "      <td>2016</td>\n",
       "      <td>1</td>\n",
       "      <td>1</td>\n",
       "      <td>20</td>\n",
       "      <td>1</td>\n",
       "    </tr>\n",
       "  </tbody>\n",
       "</table>\n",
       "<p>5 rows × 21 columns</p>\n",
       "</div>"
      ],
      "text/plain": [
       "           air_store_id          hpg_store_id  visit_date reserve_date  \\\n",
       "0  air_877f79706adbfb06                   NaN  2016-01-01   2016-01-01   \n",
       "1  air_db4b38ebe7a7ceff  hpg_bcecaa70222d94e5  2016-01-01   2016-01-01   \n",
       "2  air_db4b38ebe7a7ceff  hpg_bcecaa70222d94e5  2016-01-01   2016-01-01   \n",
       "3  air_877f79706adbfb06                   NaN  2016-01-01   2016-01-01   \n",
       "4  air_db80363d35f10926  hpg_878cc70b1abc76f7  2016-01-01   2016-01-01   \n",
       "\n",
       "       visit_datetime    reserve_datetime  air_reserve_visitors  \\\n",
       "0 2016-01-01 19:00:00 2016-01-01 16:00:00                     1   \n",
       "1 2016-01-01 19:00:00 2016-01-01 19:00:00                     3   \n",
       "2 2016-01-01 19:00:00 2016-01-01 19:00:00                     6   \n",
       "3 2016-01-01 20:00:00 2016-01-01 16:00:00                     2   \n",
       "4 2016-01-01 20:00:00 2016-01-01 01:00:00                     5   \n",
       "\n",
       "   hpg_reserve_visitors air_genre_name hpg_genre_name      ...       \\\n",
       "0                     0  Japanese food                     ...        \n",
       "1                     0     Dining bar                     ...        \n",
       "2                     0     Dining bar                     ...        \n",
       "3                     0  Japanese food                     ...        \n",
       "4                     0     Dining bar                     ...        \n",
       "\n",
       "    latitude   longitude  visit_year  visit_month  visit_day  reserve_year  \\\n",
       "0  35.658068  139.751599        2016            1          1          2016   \n",
       "1  34.676231  135.486059        2016            1          1          2016   \n",
       "2  34.676231  135.486059        2016            1          1          2016   \n",
       "3  35.658068  139.751599        2016            1          1          2016   \n",
       "4  43.770635  142.364819        2016            1          1          2016   \n",
       "\n",
       "   reserve_month  reserve_day  visit_hour  reserve_hour  \n",
       "0              1            1          19            16  \n",
       "1              1            1          19            19  \n",
       "2              1            1          19            19  \n",
       "3              1            1          20            16  \n",
       "4              1            1          20             1  \n",
       "\n",
       "[5 rows x 21 columns]"
      ]
     },
     "execution_count": 494,
     "metadata": {},
     "output_type": "execute_result"
    }
   ],
   "source": [
    "air_data_full.head()"
   ]
  },
  {
   "cell_type": "code",
   "execution_count": 237,
   "metadata": {
    "collapsed": true
   },
   "outputs": [],
   "source": [
    "# pickle dataframe to load faster\n",
    "# pickle.dump(air_data_full, open('air_data_full.p', 'wb'))\n",
    "air_data_full = pickle.load(open('air_data_full.p', 'rb'))"
   ]
  },
  {
   "cell_type": "markdown",
   "metadata": {},
   "source": [
    "#### Genre Name"
   ]
  },
  {
   "cell_type": "markdown",
   "metadata": {},
   "source": [
    "First combine `air_genre_name` and `hpg_genre_name`"
   ]
  },
  {
   "cell_type": "code",
   "execution_count": 648,
   "metadata": {},
   "outputs": [],
   "source": [
    "df_air.loc[:, 'genre_name'] = df_air.apply(\n",
    "    lambda row: (row['air_genre_name'] + ' ' + row['hpg_genre_name']) \n",
    "    if (type(row['air_genre_name']) == str) and (type(row['hpg_genre_name']) == str)\n",
    "    else row['air_genre_name'], axis=1)"
   ]
  },
  {
   "cell_type": "code",
   "execution_count": 649,
   "metadata": {
    "collapsed": true
   },
   "outputs": [],
   "source": [
    "#add feature for restaurants with Japanese in the name\n",
    "df_air.loc[:,'Japanese_explicit'] = df_air.apply(\n",
    "    lambda row: 1 if 'Japanese' in str(row.genre_name) else 0, axis=1)"
   ]
  },
  {
   "cell_type": "code",
   "execution_count": 650,
   "metadata": {
    "collapsed": true
   },
   "outputs": [],
   "source": [
    "#add feature for restaurants with Japanese food\n",
    "df_air.loc[:,'Japanese'] = df_air.apply(\n",
    "    lambda row: 1 if ('Japanese' in str(row.genre_name) or 'Izakaya' in str(row.genre_name)\n",
    "                      or 'Sukiyaki' in str(row.genre_name) or 'Teppanyaki' in str(row.genre_name)\n",
    "                      or 'Sushi' in str(row.genre_name)) \n",
    "                else 0, axis=1)"
   ]
  },
  {
   "cell_type": "code",
   "execution_count": 651,
   "metadata": {
    "collapsed": true
   },
   "outputs": [],
   "source": [
    "#add feature for Italian restaurants\n",
    "df_air.loc[:,'Italian'] = df_air.apply(\n",
    "    lambda row: 1 if ('Italian' in str(row.genre_name) or 'Pizza' in str(row.genre_name)) else 0, axis=1)"
   ]
  },
  {
   "cell_type": "code",
   "execution_count": 652,
   "metadata": {},
   "outputs": [],
   "source": [
    "#add feature for French restaurants\n",
    "df_air.loc[:,'French'] = df_air.apply(\n",
    "    lambda row: 1 if 'French' in str(row.genre_name) else 0, axis=1)"
   ]
  },
  {
   "cell_type": "code",
   "execution_count": 653,
   "metadata": {
    "collapsed": true
   },
   "outputs": [],
   "source": [
    "#add feature for Korean restaurants\n",
    "df_air.loc[:,'Korean'] = df_air.apply(\n",
    "    lambda row: 1 if 'Korean' in str(row.genre_name) else 0, axis=1)"
   ]
  },
  {
   "cell_type": "code",
   "execution_count": 654,
   "metadata": {
    "collapsed": true
   },
   "outputs": [],
   "source": [
    "#add feature for restaurants with Chinese food\n",
    "df_air.loc[:,'Chinese'] = df_air.apply(\n",
    "    lambda row: 1 if ('Chinese' in str(row.genre_name) or 'Cantonese' in str(row.genre_name)\n",
    "                      or 'Shanghai' in str(row.genre_name) or 'Sichuan' in str(row.genre_name)\n",
    "                      or 'Dim Sum' in str(row.genre_name) or 'Taiwanese' in str(row.genre_name)) \n",
    "                else 0, axis=1)"
   ]
  },
  {
   "cell_type": "code",
   "execution_count": 655,
   "metadata": {
    "collapsed": true
   },
   "outputs": [],
   "source": [
    "#add feature for restaurants with Western food\n",
    "df_air.loc[:,'Western'] = df_air.apply(\n",
    "    lambda row: 1 if ('Western' in str(row.genre_name) or 'Italian' in str(row.genre_name)\n",
    "                      or 'French' in str(row.genre_name) or 'Spanish' in str(row.genre_name)\n",
    "                      or 'Spain' in str(row.genre_name) or 'Taiwanese' in str(row.genre_name)) \n",
    "                else 0, axis=1)"
   ]
  },
  {
   "cell_type": "code",
   "execution_count": 656,
   "metadata": {},
   "outputs": [],
   "source": [
    "#add feature for restaurants with Chinese food\n",
    "df_air.loc[:,'Asian'] = df_air.apply(\n",
    "    lambda row: 1 if (row.Japanese == 1 or row.Korean == 1 or row.Chinese == 1) \n",
    "                else 0, axis=1)"
   ]
  },
  {
   "cell_type": "code",
   "execution_count": 657,
   "metadata": {},
   "outputs": [
    {
     "data": {
      "text/plain": [
       "array(['Italian/French  ', 'Izakaya  ', 'Western food  ', 'Dining bar  ',\n",
       "       'Yakiniku/Korean food  ', 'Bar/Cocktail  ', 'Japanese food  ',\n",
       "       'Cafe/Sweets  ', 'Creative cuisine  ',\n",
       "       'Okonomiyaki/Monja/Teppanyaki  ', nan, 'Asian  ', 'Other  ',\n",
       "       'Karaoke/Party  ', 'International cuisine  '], dtype=object)"
      ]
     },
     "execution_count": 657,
     "metadata": {},
     "output_type": "execute_result"
    }
   ],
   "source": [
    "df_air.genre_name.unique()"
   ]
  },
  {
   "cell_type": "code",
   "execution_count": 658,
   "metadata": {},
   "outputs": [
    {
     "data": {
      "text/html": [
       "<div>\n",
       "<style scoped>\n",
       "    .dataframe tbody tr th:only-of-type {\n",
       "        vertical-align: middle;\n",
       "    }\n",
       "\n",
       "    .dataframe tbody tr th {\n",
       "        vertical-align: top;\n",
       "    }\n",
       "\n",
       "    .dataframe thead th {\n",
       "        text-align: right;\n",
       "    }\n",
       "</style>\n",
       "<table border=\"1\" class=\"dataframe\">\n",
       "  <thead>\n",
       "    <tr style=\"text-align: right;\">\n",
       "      <th></th>\n",
       "      <th>air_store_id</th>\n",
       "      <th>visit_date</th>\n",
       "      <th>air_reserve_visitors</th>\n",
       "      <th>hpg_reserve_visitors</th>\n",
       "      <th>visitors</th>\n",
       "      <th>day_of_week</th>\n",
       "      <th>holiday_flg</th>\n",
       "      <th>air_genre_name</th>\n",
       "      <th>hpg_genre_name</th>\n",
       "      <th>air_area_name</th>\n",
       "      <th>...</th>\n",
       "      <th>longitude</th>\n",
       "      <th>genre_name</th>\n",
       "      <th>Japanese_explicit</th>\n",
       "      <th>Japanese</th>\n",
       "      <th>Italian</th>\n",
       "      <th>French</th>\n",
       "      <th>Korean</th>\n",
       "      <th>Chinese</th>\n",
       "      <th>Western</th>\n",
       "      <th>Asian</th>\n",
       "    </tr>\n",
       "  </thead>\n",
       "  <tbody>\n",
       "    <tr>\n",
       "      <th>0</th>\n",
       "      <td>air_00a91d42b08b08d9</td>\n",
       "      <td>2016-10-31</td>\n",
       "      <td>2.0</td>\n",
       "      <td>2.0</td>\n",
       "      <td>26.0</td>\n",
       "      <td>Monday</td>\n",
       "      <td>0</td>\n",
       "      <td>Italian/French</td>\n",
       "      <td></td>\n",
       "      <td>Tōkyō-to Chiyoda-ku Kudanminami</td>\n",
       "      <td>...</td>\n",
       "      <td>139.753595</td>\n",
       "      <td>Italian/French</td>\n",
       "      <td>0</td>\n",
       "      <td>0</td>\n",
       "      <td>1</td>\n",
       "      <td>1</td>\n",
       "      <td>0</td>\n",
       "      <td>0</td>\n",
       "      <td>1</td>\n",
       "      <td>0</td>\n",
       "    </tr>\n",
       "    <tr>\n",
       "      <th>1</th>\n",
       "      <td>air_03963426c9312048</td>\n",
       "      <td>2016-10-31</td>\n",
       "      <td>12.0</td>\n",
       "      <td>0.0</td>\n",
       "      <td>17.0</td>\n",
       "      <td>Monday</td>\n",
       "      <td>0</td>\n",
       "      <td>Izakaya</td>\n",
       "      <td></td>\n",
       "      <td>Hiroshima-ken Hiroshima-shi Kokutaijimachi</td>\n",
       "      <td>...</td>\n",
       "      <td>132.455018</td>\n",
       "      <td>Izakaya</td>\n",
       "      <td>0</td>\n",
       "      <td>1</td>\n",
       "      <td>0</td>\n",
       "      <td>0</td>\n",
       "      <td>0</td>\n",
       "      <td>0</td>\n",
       "      <td>0</td>\n",
       "      <td>1</td>\n",
       "    </tr>\n",
       "    <tr>\n",
       "      <th>2</th>\n",
       "      <td>air_04cae7c1bc9b2a0b</td>\n",
       "      <td>2016-10-31</td>\n",
       "      <td>13.0</td>\n",
       "      <td>0.0</td>\n",
       "      <td>27.0</td>\n",
       "      <td>Monday</td>\n",
       "      <td>0</td>\n",
       "      <td>Izakaya</td>\n",
       "      <td></td>\n",
       "      <td>Hokkaidō Sapporo-shi Kotoni 2 Jō</td>\n",
       "      <td>...</td>\n",
       "      <td>141.300889</td>\n",
       "      <td>Izakaya</td>\n",
       "      <td>0</td>\n",
       "      <td>1</td>\n",
       "      <td>0</td>\n",
       "      <td>0</td>\n",
       "      <td>0</td>\n",
       "      <td>0</td>\n",
       "      <td>0</td>\n",
       "      <td>1</td>\n",
       "    </tr>\n",
       "    <tr>\n",
       "      <th>3</th>\n",
       "      <td>air_0867f7bebad6a649</td>\n",
       "      <td>2016-10-31</td>\n",
       "      <td>2.0</td>\n",
       "      <td>0.0</td>\n",
       "      <td>12.0</td>\n",
       "      <td>Monday</td>\n",
       "      <td>0</td>\n",
       "      <td>Italian/French</td>\n",
       "      <td></td>\n",
       "      <td>Hiroshima-ken Hiroshima-shi Kokutaijimachi</td>\n",
       "      <td>...</td>\n",
       "      <td>132.455018</td>\n",
       "      <td>Italian/French</td>\n",
       "      <td>0</td>\n",
       "      <td>0</td>\n",
       "      <td>1</td>\n",
       "      <td>1</td>\n",
       "      <td>0</td>\n",
       "      <td>0</td>\n",
       "      <td>1</td>\n",
       "      <td>0</td>\n",
       "    </tr>\n",
       "    <tr>\n",
       "      <th>4</th>\n",
       "      <td>air_08cb3c4ee6cd6a22</td>\n",
       "      <td>2016-10-31</td>\n",
       "      <td>20.0</td>\n",
       "      <td>0.0</td>\n",
       "      <td>32.0</td>\n",
       "      <td>Monday</td>\n",
       "      <td>0</td>\n",
       "      <td>Izakaya</td>\n",
       "      <td></td>\n",
       "      <td>Hyōgo-ken Kakogawa-shi Kakogawachō Kitazaike</td>\n",
       "      <td>...</td>\n",
       "      <td>134.841177</td>\n",
       "      <td>Izakaya</td>\n",
       "      <td>0</td>\n",
       "      <td>1</td>\n",
       "      <td>0</td>\n",
       "      <td>0</td>\n",
       "      <td>0</td>\n",
       "      <td>0</td>\n",
       "      <td>0</td>\n",
       "      <td>1</td>\n",
       "    </tr>\n",
       "  </tbody>\n",
       "</table>\n",
       "<p>5 rows × 21 columns</p>\n",
       "</div>"
      ],
      "text/plain": [
       "           air_store_id  visit_date  air_reserve_visitors  \\\n",
       "0  air_00a91d42b08b08d9  2016-10-31                   2.0   \n",
       "1  air_03963426c9312048  2016-10-31                  12.0   \n",
       "2  air_04cae7c1bc9b2a0b  2016-10-31                  13.0   \n",
       "3  air_0867f7bebad6a649  2016-10-31                   2.0   \n",
       "4  air_08cb3c4ee6cd6a22  2016-10-31                  20.0   \n",
       "\n",
       "   hpg_reserve_visitors  visitors day_of_week  holiday_flg  air_genre_name  \\\n",
       "0                   2.0      26.0      Monday            0  Italian/French   \n",
       "1                   0.0      17.0      Monday            0         Izakaya   \n",
       "2                   0.0      27.0      Monday            0         Izakaya   \n",
       "3                   0.0      12.0      Monday            0  Italian/French   \n",
       "4                   0.0      32.0      Monday            0         Izakaya   \n",
       "\n",
       "  hpg_genre_name                                 air_area_name  ...    \\\n",
       "0                              Tōkyō-to Chiyoda-ku Kudanminami  ...     \n",
       "1                   Hiroshima-ken Hiroshima-shi Kokutaijimachi  ...     \n",
       "2                             Hokkaidō Sapporo-shi Kotoni 2 Jō  ...     \n",
       "3                   Hiroshima-ken Hiroshima-shi Kokutaijimachi  ...     \n",
       "4                 Hyōgo-ken Kakogawa-shi Kakogawachō Kitazaike  ...     \n",
       "\n",
       "    longitude        genre_name Japanese_explicit  Japanese  Italian  French  \\\n",
       "0  139.753595  Italian/French                   0         0        1       1   \n",
       "1  132.455018         Izakaya                   0         1        0       0   \n",
       "2  141.300889         Izakaya                   0         1        0       0   \n",
       "3  132.455018  Italian/French                   0         0        1       1   \n",
       "4  134.841177         Izakaya                   0         1        0       0   \n",
       "\n",
       "   Korean  Chinese  Western  Asian  \n",
       "0       0        0        1      0  \n",
       "1       0        0        0      1  \n",
       "2       0        0        0      1  \n",
       "3       0        0        1      0  \n",
       "4       0        0        0      1  \n",
       "\n",
       "[5 rows x 21 columns]"
      ]
     },
     "execution_count": 658,
     "metadata": {},
     "output_type": "execute_result"
    }
   ],
   "source": [
    "df_air.head()"
   ]
  },
  {
   "cell_type": "code",
   "execution_count": 659,
   "metadata": {
    "collapsed": true
   },
   "outputs": [],
   "source": [
    "pickle.dump(df_air, open('df_air2.p', 'wb'))\n",
    "df_air = pickle.load(open('df_air2.p', 'rb'))"
   ]
  },
  {
   "cell_type": "code",
   "execution_count": 660,
   "metadata": {},
   "outputs": [],
   "source": [
    "df_air = df_air.sort_values(['air_store_id', 'visit_date'])"
   ]
  },
  {
   "cell_type": "code",
   "execution_count": null,
   "metadata": {
    "collapsed": true
   },
   "outputs": [],
   "source": []
  },
  {
   "cell_type": "markdown",
   "metadata": {
    "collapsed": true
   },
   "source": [
    "#### Area Name"
   ]
  },
  {
   "cell_type": "markdown",
   "metadata": {
    "collapsed": true
   },
   "source": [
    "- Prefecture\n",
    "- City"
   ]
  },
  {
   "cell_type": "code",
   "execution_count": null,
   "metadata": {
    "collapsed": true
   },
   "outputs": [],
   "source": []
  },
  {
   "cell_type": "code",
   "execution_count": null,
   "metadata": {
    "collapsed": true
   },
   "outputs": [],
   "source": []
  },
  {
   "cell_type": "markdown",
   "metadata": {},
   "source": [
    "#### Dummy Variables"
   ]
  },
  {
   "cell_type": "code",
   "execution_count": 664,
   "metadata": {},
   "outputs": [],
   "source": [
    "df_air = pd.concat([df_air.drop('day_of_week', axis=1),(pd.get_dummies(df_air.day_of_week))], axis=1)"
   ]
  },
  {
   "cell_type": "code",
   "execution_count": 665,
   "metadata": {
    "collapsed": true
   },
   "outputs": [],
   "source": [
    "pickle.dump(df_air, open('df_air2.p','wb'))"
   ]
  },
  {
   "cell_type": "code",
   "execution_count": null,
   "metadata": {
    "collapsed": true
   },
   "outputs": [],
   "source": []
  },
  {
   "cell_type": "code",
   "execution_count": 190,
   "metadata": {
    "scrolled": true
   },
   "outputs": [
    {
     "data": {
      "text/html": [
       "<div>\n",
       "<style scoped>\n",
       "    .dataframe tbody tr th:only-of-type {\n",
       "        vertical-align: middle;\n",
       "    }\n",
       "\n",
       "    .dataframe tbody tr th {\n",
       "        vertical-align: top;\n",
       "    }\n",
       "\n",
       "    .dataframe thead th {\n",
       "        text-align: right;\n",
       "    }\n",
       "</style>\n",
       "<table border=\"1\" class=\"dataframe\">\n",
       "  <thead>\n",
       "    <tr style=\"text-align: right;\">\n",
       "      <th></th>\n",
       "      <th>air_store_id</th>\n",
       "      <th>hpg_store_id</th>\n",
       "      <th>visit_datetime</th>\n",
       "      <th>reserve_datetime</th>\n",
       "      <th>air_reserve_visitors</th>\n",
       "      <th>hpg_reserve_visitors</th>\n",
       "      <th>air_genre_name</th>\n",
       "      <th>hpg_genre_name</th>\n",
       "      <th>air_area_name</th>\n",
       "      <th>latitude</th>\n",
       "      <th>...</th>\n",
       "      <th>reserve_hour</th>\n",
       "      <th>genre_name</th>\n",
       "      <th>Japanese_explicit</th>\n",
       "      <th>Italian</th>\n",
       "      <th>Korean</th>\n",
       "      <th>Chinese</th>\n",
       "      <th>French</th>\n",
       "      <th>Western</th>\n",
       "      <th>Japanese</th>\n",
       "      <th>Asian</th>\n",
       "    </tr>\n",
       "  </thead>\n",
       "  <tbody>\n",
       "    <tr>\n",
       "      <th>0</th>\n",
       "      <td>air_877f79706adbfb06</td>\n",
       "      <td>NaN</td>\n",
       "      <td>2016-01-01 19:00:00</td>\n",
       "      <td>2016-01-01 16:00:00</td>\n",
       "      <td>1</td>\n",
       "      <td>1</td>\n",
       "      <td>Japanese food</td>\n",
       "      <td>NaN</td>\n",
       "      <td>Tōkyō-to Minato-ku Shibakōen</td>\n",
       "      <td>35.658068</td>\n",
       "      <td>...</td>\n",
       "      <td>16</td>\n",
       "      <td>Japanese food</td>\n",
       "      <td>1</td>\n",
       "      <td>0</td>\n",
       "      <td>0</td>\n",
       "      <td>0</td>\n",
       "      <td>0</td>\n",
       "      <td>0</td>\n",
       "      <td>1</td>\n",
       "      <td>1</td>\n",
       "    </tr>\n",
       "    <tr>\n",
       "      <th>1</th>\n",
       "      <td>air_db4b38ebe7a7ceff</td>\n",
       "      <td>hpg_bcecaa70222d94e5</td>\n",
       "      <td>2016-01-01 19:00:00</td>\n",
       "      <td>2016-01-01 19:00:00</td>\n",
       "      <td>3</td>\n",
       "      <td>3</td>\n",
       "      <td>Dining bar</td>\n",
       "      <td>NaN</td>\n",
       "      <td>Ōsaka-fu Ōsaka-shi Shinmachi</td>\n",
       "      <td>34.676231</td>\n",
       "      <td>...</td>\n",
       "      <td>19</td>\n",
       "      <td>Dining bar</td>\n",
       "      <td>0</td>\n",
       "      <td>0</td>\n",
       "      <td>0</td>\n",
       "      <td>0</td>\n",
       "      <td>0</td>\n",
       "      <td>0</td>\n",
       "      <td>0</td>\n",
       "      <td>0</td>\n",
       "    </tr>\n",
       "    <tr>\n",
       "      <th>2</th>\n",
       "      <td>air_db4b38ebe7a7ceff</td>\n",
       "      <td>hpg_bcecaa70222d94e5</td>\n",
       "      <td>2016-01-01 19:00:00</td>\n",
       "      <td>2016-01-01 19:00:00</td>\n",
       "      <td>6</td>\n",
       "      <td>6</td>\n",
       "      <td>Dining bar</td>\n",
       "      <td>NaN</td>\n",
       "      <td>Ōsaka-fu Ōsaka-shi Shinmachi</td>\n",
       "      <td>34.676231</td>\n",
       "      <td>...</td>\n",
       "      <td>19</td>\n",
       "      <td>Dining bar</td>\n",
       "      <td>0</td>\n",
       "      <td>0</td>\n",
       "      <td>0</td>\n",
       "      <td>0</td>\n",
       "      <td>0</td>\n",
       "      <td>0</td>\n",
       "      <td>0</td>\n",
       "      <td>0</td>\n",
       "    </tr>\n",
       "    <tr>\n",
       "      <th>3</th>\n",
       "      <td>air_877f79706adbfb06</td>\n",
       "      <td>NaN</td>\n",
       "      <td>2016-01-01 20:00:00</td>\n",
       "      <td>2016-01-01 16:00:00</td>\n",
       "      <td>2</td>\n",
       "      <td>2</td>\n",
       "      <td>Japanese food</td>\n",
       "      <td>NaN</td>\n",
       "      <td>Tōkyō-to Minato-ku Shibakōen</td>\n",
       "      <td>35.658068</td>\n",
       "      <td>...</td>\n",
       "      <td>16</td>\n",
       "      <td>Japanese food</td>\n",
       "      <td>1</td>\n",
       "      <td>0</td>\n",
       "      <td>0</td>\n",
       "      <td>0</td>\n",
       "      <td>0</td>\n",
       "      <td>0</td>\n",
       "      <td>1</td>\n",
       "      <td>1</td>\n",
       "    </tr>\n",
       "    <tr>\n",
       "      <th>4</th>\n",
       "      <td>air_db80363d35f10926</td>\n",
       "      <td>hpg_878cc70b1abc76f7</td>\n",
       "      <td>2016-01-01 20:00:00</td>\n",
       "      <td>2016-01-01 01:00:00</td>\n",
       "      <td>5</td>\n",
       "      <td>5</td>\n",
       "      <td>Dining bar</td>\n",
       "      <td>NaN</td>\n",
       "      <td>Hokkaidō Asahikawa-shi 6 Jōdōri</td>\n",
       "      <td>43.770635</td>\n",
       "      <td>...</td>\n",
       "      <td>1</td>\n",
       "      <td>Dining bar</td>\n",
       "      <td>0</td>\n",
       "      <td>0</td>\n",
       "      <td>0</td>\n",
       "      <td>0</td>\n",
       "      <td>0</td>\n",
       "      <td>0</td>\n",
       "      <td>0</td>\n",
       "      <td>0</td>\n",
       "    </tr>\n",
       "  </tbody>\n",
       "</table>\n",
       "<p>5 rows × 28 columns</p>\n",
       "</div>"
      ],
      "text/plain": [
       "           air_store_id          hpg_store_id      visit_datetime  \\\n",
       "0  air_877f79706adbfb06                   NaN 2016-01-01 19:00:00   \n",
       "1  air_db4b38ebe7a7ceff  hpg_bcecaa70222d94e5 2016-01-01 19:00:00   \n",
       "2  air_db4b38ebe7a7ceff  hpg_bcecaa70222d94e5 2016-01-01 19:00:00   \n",
       "3  air_877f79706adbfb06                   NaN 2016-01-01 20:00:00   \n",
       "4  air_db80363d35f10926  hpg_878cc70b1abc76f7 2016-01-01 20:00:00   \n",
       "\n",
       "     reserve_datetime  air_reserve_visitors  hpg_reserve_visitors  \\\n",
       "0 2016-01-01 16:00:00                     1                     1   \n",
       "1 2016-01-01 19:00:00                     3                     3   \n",
       "2 2016-01-01 19:00:00                     6                     6   \n",
       "3 2016-01-01 16:00:00                     2                     2   \n",
       "4 2016-01-01 01:00:00                     5                     5   \n",
       "\n",
       "  air_genre_name hpg_genre_name                    air_area_name   latitude  \\\n",
       "0  Japanese food            NaN     Tōkyō-to Minato-ku Shibakōen  35.658068   \n",
       "1     Dining bar            NaN     Ōsaka-fu Ōsaka-shi Shinmachi  34.676231   \n",
       "2     Dining bar            NaN     Ōsaka-fu Ōsaka-shi Shinmachi  34.676231   \n",
       "3  Japanese food            NaN     Tōkyō-to Minato-ku Shibakōen  35.658068   \n",
       "4     Dining bar            NaN  Hokkaidō Asahikawa-shi 6 Jōdōri  43.770635   \n",
       "\n",
       "   ...   reserve_hour     genre_name  Japanese_explicit  Italian  Korean  \\\n",
       "0  ...             16  Japanese food                  1        0       0   \n",
       "1  ...             19     Dining bar                  0        0       0   \n",
       "2  ...             19     Dining bar                  0        0       0   \n",
       "3  ...             16  Japanese food                  1        0       0   \n",
       "4  ...              1     Dining bar                  0        0       0   \n",
       "\n",
       "   Chinese  French  Western  Japanese Asian  \n",
       "0        0       0        0         1     1  \n",
       "1        0       0        0         0     0  \n",
       "2        0       0        0         0     0  \n",
       "3        0       0        0         1     1  \n",
       "4        0       0        0         0     0  \n",
       "\n",
       "[5 rows x 28 columns]"
      ]
     },
     "execution_count": 190,
     "metadata": {},
     "output_type": "execute_result"
    }
   ],
   "source": [
    "air_data_full.head()"
   ]
  },
  {
   "cell_type": "code",
   "execution_count": 681,
   "metadata": {},
   "outputs": [
    {
     "data": {
      "text/html": [
       "<div>\n",
       "<style scoped>\n",
       "    .dataframe tbody tr th:only-of-type {\n",
       "        vertical-align: middle;\n",
       "    }\n",
       "\n",
       "    .dataframe tbody tr th {\n",
       "        vertical-align: top;\n",
       "    }\n",
       "\n",
       "    .dataframe thead th {\n",
       "        text-align: right;\n",
       "    }\n",
       "</style>\n",
       "<table border=\"1\" class=\"dataframe\">\n",
       "  <thead>\n",
       "    <tr style=\"text-align: right;\">\n",
       "      <th></th>\n",
       "      <th>visitors</th>\n",
       "      <th>air_store_id</th>\n",
       "      <th>visit_date</th>\n",
       "    </tr>\n",
       "  </thead>\n",
       "  <tbody>\n",
       "    <tr>\n",
       "      <th>0</th>\n",
       "      <td>NaN</td>\n",
       "      <td>air_00a91d42b08b08d9</td>\n",
       "      <td>2017-04-23</td>\n",
       "    </tr>\n",
       "    <tr>\n",
       "      <th>1</th>\n",
       "      <td>NaN</td>\n",
       "      <td>air_00a91d42b08b08d9</td>\n",
       "      <td>2017-04-24</td>\n",
       "    </tr>\n",
       "    <tr>\n",
       "      <th>2</th>\n",
       "      <td>NaN</td>\n",
       "      <td>air_00a91d42b08b08d9</td>\n",
       "      <td>2017-04-25</td>\n",
       "    </tr>\n",
       "    <tr>\n",
       "      <th>3</th>\n",
       "      <td>NaN</td>\n",
       "      <td>air_00a91d42b08b08d9</td>\n",
       "      <td>2017-04-26</td>\n",
       "    </tr>\n",
       "    <tr>\n",
       "      <th>4</th>\n",
       "      <td>NaN</td>\n",
       "      <td>air_00a91d42b08b08d9</td>\n",
       "      <td>2017-04-27</td>\n",
       "    </tr>\n",
       "    <tr>\n",
       "      <th>5</th>\n",
       "      <td>NaN</td>\n",
       "      <td>air_00a91d42b08b08d9</td>\n",
       "      <td>2017-04-28</td>\n",
       "    </tr>\n",
       "    <tr>\n",
       "      <th>6</th>\n",
       "      <td>NaN</td>\n",
       "      <td>air_00a91d42b08b08d9</td>\n",
       "      <td>2017-04-29</td>\n",
       "    </tr>\n",
       "    <tr>\n",
       "      <th>7</th>\n",
       "      <td>NaN</td>\n",
       "      <td>air_00a91d42b08b08d9</td>\n",
       "      <td>2017-04-30</td>\n",
       "    </tr>\n",
       "    <tr>\n",
       "      <th>8</th>\n",
       "      <td>NaN</td>\n",
       "      <td>air_00a91d42b08b08d9</td>\n",
       "      <td>2017-05-01</td>\n",
       "    </tr>\n",
       "    <tr>\n",
       "      <th>9</th>\n",
       "      <td>NaN</td>\n",
       "      <td>air_00a91d42b08b08d9</td>\n",
       "      <td>2017-05-02</td>\n",
       "    </tr>\n",
       "    <tr>\n",
       "      <th>10</th>\n",
       "      <td>NaN</td>\n",
       "      <td>air_00a91d42b08b08d9</td>\n",
       "      <td>2017-05-03</td>\n",
       "    </tr>\n",
       "    <tr>\n",
       "      <th>11</th>\n",
       "      <td>NaN</td>\n",
       "      <td>air_00a91d42b08b08d9</td>\n",
       "      <td>2017-05-04</td>\n",
       "    </tr>\n",
       "    <tr>\n",
       "      <th>12</th>\n",
       "      <td>NaN</td>\n",
       "      <td>air_00a91d42b08b08d9</td>\n",
       "      <td>2017-05-05</td>\n",
       "    </tr>\n",
       "    <tr>\n",
       "      <th>13</th>\n",
       "      <td>NaN</td>\n",
       "      <td>air_00a91d42b08b08d9</td>\n",
       "      <td>2017-05-06</td>\n",
       "    </tr>\n",
       "    <tr>\n",
       "      <th>14</th>\n",
       "      <td>NaN</td>\n",
       "      <td>air_00a91d42b08b08d9</td>\n",
       "      <td>2017-05-07</td>\n",
       "    </tr>\n",
       "    <tr>\n",
       "      <th>15</th>\n",
       "      <td>NaN</td>\n",
       "      <td>air_00a91d42b08b08d9</td>\n",
       "      <td>2017-05-08</td>\n",
       "    </tr>\n",
       "    <tr>\n",
       "      <th>16</th>\n",
       "      <td>NaN</td>\n",
       "      <td>air_00a91d42b08b08d9</td>\n",
       "      <td>2017-05-09</td>\n",
       "    </tr>\n",
       "    <tr>\n",
       "      <th>17</th>\n",
       "      <td>NaN</td>\n",
       "      <td>air_00a91d42b08b08d9</td>\n",
       "      <td>2017-05-10</td>\n",
       "    </tr>\n",
       "    <tr>\n",
       "      <th>18</th>\n",
       "      <td>NaN</td>\n",
       "      <td>air_00a91d42b08b08d9</td>\n",
       "      <td>2017-05-11</td>\n",
       "    </tr>\n",
       "    <tr>\n",
       "      <th>19</th>\n",
       "      <td>NaN</td>\n",
       "      <td>air_00a91d42b08b08d9</td>\n",
       "      <td>2017-05-12</td>\n",
       "    </tr>\n",
       "    <tr>\n",
       "      <th>20</th>\n",
       "      <td>NaN</td>\n",
       "      <td>air_00a91d42b08b08d9</td>\n",
       "      <td>2017-05-13</td>\n",
       "    </tr>\n",
       "    <tr>\n",
       "      <th>21</th>\n",
       "      <td>NaN</td>\n",
       "      <td>air_00a91d42b08b08d9</td>\n",
       "      <td>2017-05-14</td>\n",
       "    </tr>\n",
       "    <tr>\n",
       "      <th>22</th>\n",
       "      <td>NaN</td>\n",
       "      <td>air_00a91d42b08b08d9</td>\n",
       "      <td>2017-05-15</td>\n",
       "    </tr>\n",
       "    <tr>\n",
       "      <th>23</th>\n",
       "      <td>NaN</td>\n",
       "      <td>air_00a91d42b08b08d9</td>\n",
       "      <td>2017-05-16</td>\n",
       "    </tr>\n",
       "    <tr>\n",
       "      <th>24</th>\n",
       "      <td>NaN</td>\n",
       "      <td>air_00a91d42b08b08d9</td>\n",
       "      <td>2017-05-17</td>\n",
       "    </tr>\n",
       "    <tr>\n",
       "      <th>25</th>\n",
       "      <td>NaN</td>\n",
       "      <td>air_00a91d42b08b08d9</td>\n",
       "      <td>2017-05-18</td>\n",
       "    </tr>\n",
       "    <tr>\n",
       "      <th>26</th>\n",
       "      <td>NaN</td>\n",
       "      <td>air_00a91d42b08b08d9</td>\n",
       "      <td>2017-05-19</td>\n",
       "    </tr>\n",
       "    <tr>\n",
       "      <th>27</th>\n",
       "      <td>NaN</td>\n",
       "      <td>air_00a91d42b08b08d9</td>\n",
       "      <td>2017-05-20</td>\n",
       "    </tr>\n",
       "    <tr>\n",
       "      <th>28</th>\n",
       "      <td>NaN</td>\n",
       "      <td>air_00a91d42b08b08d9</td>\n",
       "      <td>2017-05-21</td>\n",
       "    </tr>\n",
       "    <tr>\n",
       "      <th>29</th>\n",
       "      <td>NaN</td>\n",
       "      <td>air_00a91d42b08b08d9</td>\n",
       "      <td>2017-05-22</td>\n",
       "    </tr>\n",
       "    <tr>\n",
       "      <th>...</th>\n",
       "      <td>...</td>\n",
       "      <td>...</td>\n",
       "      <td>...</td>\n",
       "    </tr>\n",
       "    <tr>\n",
       "      <th>31989</th>\n",
       "      <td>NaN</td>\n",
       "      <td>air_fff68b929994bfbd</td>\n",
       "      <td>2017-05-02</td>\n",
       "    </tr>\n",
       "    <tr>\n",
       "      <th>31990</th>\n",
       "      <td>NaN</td>\n",
       "      <td>air_fff68b929994bfbd</td>\n",
       "      <td>2017-05-03</td>\n",
       "    </tr>\n",
       "    <tr>\n",
       "      <th>31991</th>\n",
       "      <td>NaN</td>\n",
       "      <td>air_fff68b929994bfbd</td>\n",
       "      <td>2017-05-04</td>\n",
       "    </tr>\n",
       "    <tr>\n",
       "      <th>31992</th>\n",
       "      <td>NaN</td>\n",
       "      <td>air_fff68b929994bfbd</td>\n",
       "      <td>2017-05-05</td>\n",
       "    </tr>\n",
       "    <tr>\n",
       "      <th>31993</th>\n",
       "      <td>NaN</td>\n",
       "      <td>air_fff68b929994bfbd</td>\n",
       "      <td>2017-05-06</td>\n",
       "    </tr>\n",
       "    <tr>\n",
       "      <th>31994</th>\n",
       "      <td>NaN</td>\n",
       "      <td>air_fff68b929994bfbd</td>\n",
       "      <td>2017-05-07</td>\n",
       "    </tr>\n",
       "    <tr>\n",
       "      <th>31995</th>\n",
       "      <td>NaN</td>\n",
       "      <td>air_fff68b929994bfbd</td>\n",
       "      <td>2017-05-08</td>\n",
       "    </tr>\n",
       "    <tr>\n",
       "      <th>31996</th>\n",
       "      <td>NaN</td>\n",
       "      <td>air_fff68b929994bfbd</td>\n",
       "      <td>2017-05-09</td>\n",
       "    </tr>\n",
       "    <tr>\n",
       "      <th>31997</th>\n",
       "      <td>NaN</td>\n",
       "      <td>air_fff68b929994bfbd</td>\n",
       "      <td>2017-05-10</td>\n",
       "    </tr>\n",
       "    <tr>\n",
       "      <th>31998</th>\n",
       "      <td>NaN</td>\n",
       "      <td>air_fff68b929994bfbd</td>\n",
       "      <td>2017-05-11</td>\n",
       "    </tr>\n",
       "    <tr>\n",
       "      <th>31999</th>\n",
       "      <td>NaN</td>\n",
       "      <td>air_fff68b929994bfbd</td>\n",
       "      <td>2017-05-12</td>\n",
       "    </tr>\n",
       "    <tr>\n",
       "      <th>32000</th>\n",
       "      <td>NaN</td>\n",
       "      <td>air_fff68b929994bfbd</td>\n",
       "      <td>2017-05-13</td>\n",
       "    </tr>\n",
       "    <tr>\n",
       "      <th>32001</th>\n",
       "      <td>NaN</td>\n",
       "      <td>air_fff68b929994bfbd</td>\n",
       "      <td>2017-05-14</td>\n",
       "    </tr>\n",
       "    <tr>\n",
       "      <th>32002</th>\n",
       "      <td>NaN</td>\n",
       "      <td>air_fff68b929994bfbd</td>\n",
       "      <td>2017-05-15</td>\n",
       "    </tr>\n",
       "    <tr>\n",
       "      <th>32003</th>\n",
       "      <td>NaN</td>\n",
       "      <td>air_fff68b929994bfbd</td>\n",
       "      <td>2017-05-16</td>\n",
       "    </tr>\n",
       "    <tr>\n",
       "      <th>32004</th>\n",
       "      <td>NaN</td>\n",
       "      <td>air_fff68b929994bfbd</td>\n",
       "      <td>2017-05-17</td>\n",
       "    </tr>\n",
       "    <tr>\n",
       "      <th>32005</th>\n",
       "      <td>NaN</td>\n",
       "      <td>air_fff68b929994bfbd</td>\n",
       "      <td>2017-05-18</td>\n",
       "    </tr>\n",
       "    <tr>\n",
       "      <th>32006</th>\n",
       "      <td>NaN</td>\n",
       "      <td>air_fff68b929994bfbd</td>\n",
       "      <td>2017-05-19</td>\n",
       "    </tr>\n",
       "    <tr>\n",
       "      <th>32007</th>\n",
       "      <td>NaN</td>\n",
       "      <td>air_fff68b929994bfbd</td>\n",
       "      <td>2017-05-20</td>\n",
       "    </tr>\n",
       "    <tr>\n",
       "      <th>32008</th>\n",
       "      <td>NaN</td>\n",
       "      <td>air_fff68b929994bfbd</td>\n",
       "      <td>2017-05-21</td>\n",
       "    </tr>\n",
       "    <tr>\n",
       "      <th>32009</th>\n",
       "      <td>NaN</td>\n",
       "      <td>air_fff68b929994bfbd</td>\n",
       "      <td>2017-05-22</td>\n",
       "    </tr>\n",
       "    <tr>\n",
       "      <th>32010</th>\n",
       "      <td>NaN</td>\n",
       "      <td>air_fff68b929994bfbd</td>\n",
       "      <td>2017-05-23</td>\n",
       "    </tr>\n",
       "    <tr>\n",
       "      <th>32011</th>\n",
       "      <td>NaN</td>\n",
       "      <td>air_fff68b929994bfbd</td>\n",
       "      <td>2017-05-24</td>\n",
       "    </tr>\n",
       "    <tr>\n",
       "      <th>32012</th>\n",
       "      <td>NaN</td>\n",
       "      <td>air_fff68b929994bfbd</td>\n",
       "      <td>2017-05-25</td>\n",
       "    </tr>\n",
       "    <tr>\n",
       "      <th>32013</th>\n",
       "      <td>NaN</td>\n",
       "      <td>air_fff68b929994bfbd</td>\n",
       "      <td>2017-05-26</td>\n",
       "    </tr>\n",
       "    <tr>\n",
       "      <th>32014</th>\n",
       "      <td>NaN</td>\n",
       "      <td>air_fff68b929994bfbd</td>\n",
       "      <td>2017-05-27</td>\n",
       "    </tr>\n",
       "    <tr>\n",
       "      <th>32015</th>\n",
       "      <td>NaN</td>\n",
       "      <td>air_fff68b929994bfbd</td>\n",
       "      <td>2017-05-28</td>\n",
       "    </tr>\n",
       "    <tr>\n",
       "      <th>32016</th>\n",
       "      <td>NaN</td>\n",
       "      <td>air_fff68b929994bfbd</td>\n",
       "      <td>2017-05-29</td>\n",
       "    </tr>\n",
       "    <tr>\n",
       "      <th>32017</th>\n",
       "      <td>NaN</td>\n",
       "      <td>air_fff68b929994bfbd</td>\n",
       "      <td>2017-05-30</td>\n",
       "    </tr>\n",
       "    <tr>\n",
       "      <th>32018</th>\n",
       "      <td>NaN</td>\n",
       "      <td>air_fff68b929994bfbd</td>\n",
       "      <td>2017-05-31</td>\n",
       "    </tr>\n",
       "  </tbody>\n",
       "</table>\n",
       "<p>32019 rows × 3 columns</p>\n",
       "</div>"
      ],
      "text/plain": [
       "       visitors          air_store_id  visit_date\n",
       "0           NaN  air_00a91d42b08b08d9  2017-04-23\n",
       "1           NaN  air_00a91d42b08b08d9  2017-04-24\n",
       "2           NaN  air_00a91d42b08b08d9  2017-04-25\n",
       "3           NaN  air_00a91d42b08b08d9  2017-04-26\n",
       "4           NaN  air_00a91d42b08b08d9  2017-04-27\n",
       "5           NaN  air_00a91d42b08b08d9  2017-04-28\n",
       "6           NaN  air_00a91d42b08b08d9  2017-04-29\n",
       "7           NaN  air_00a91d42b08b08d9  2017-04-30\n",
       "8           NaN  air_00a91d42b08b08d9  2017-05-01\n",
       "9           NaN  air_00a91d42b08b08d9  2017-05-02\n",
       "10          NaN  air_00a91d42b08b08d9  2017-05-03\n",
       "11          NaN  air_00a91d42b08b08d9  2017-05-04\n",
       "12          NaN  air_00a91d42b08b08d9  2017-05-05\n",
       "13          NaN  air_00a91d42b08b08d9  2017-05-06\n",
       "14          NaN  air_00a91d42b08b08d9  2017-05-07\n",
       "15          NaN  air_00a91d42b08b08d9  2017-05-08\n",
       "16          NaN  air_00a91d42b08b08d9  2017-05-09\n",
       "17          NaN  air_00a91d42b08b08d9  2017-05-10\n",
       "18          NaN  air_00a91d42b08b08d9  2017-05-11\n",
       "19          NaN  air_00a91d42b08b08d9  2017-05-12\n",
       "20          NaN  air_00a91d42b08b08d9  2017-05-13\n",
       "21          NaN  air_00a91d42b08b08d9  2017-05-14\n",
       "22          NaN  air_00a91d42b08b08d9  2017-05-15\n",
       "23          NaN  air_00a91d42b08b08d9  2017-05-16\n",
       "24          NaN  air_00a91d42b08b08d9  2017-05-17\n",
       "25          NaN  air_00a91d42b08b08d9  2017-05-18\n",
       "26          NaN  air_00a91d42b08b08d9  2017-05-19\n",
       "27          NaN  air_00a91d42b08b08d9  2017-05-20\n",
       "28          NaN  air_00a91d42b08b08d9  2017-05-21\n",
       "29          NaN  air_00a91d42b08b08d9  2017-05-22\n",
       "...         ...                   ...         ...\n",
       "31989       NaN  air_fff68b929994bfbd  2017-05-02\n",
       "31990       NaN  air_fff68b929994bfbd  2017-05-03\n",
       "31991       NaN  air_fff68b929994bfbd  2017-05-04\n",
       "31992       NaN  air_fff68b929994bfbd  2017-05-05\n",
       "31993       NaN  air_fff68b929994bfbd  2017-05-06\n",
       "31994       NaN  air_fff68b929994bfbd  2017-05-07\n",
       "31995       NaN  air_fff68b929994bfbd  2017-05-08\n",
       "31996       NaN  air_fff68b929994bfbd  2017-05-09\n",
       "31997       NaN  air_fff68b929994bfbd  2017-05-10\n",
       "31998       NaN  air_fff68b929994bfbd  2017-05-11\n",
       "31999       NaN  air_fff68b929994bfbd  2017-05-12\n",
       "32000       NaN  air_fff68b929994bfbd  2017-05-13\n",
       "32001       NaN  air_fff68b929994bfbd  2017-05-14\n",
       "32002       NaN  air_fff68b929994bfbd  2017-05-15\n",
       "32003       NaN  air_fff68b929994bfbd  2017-05-16\n",
       "32004       NaN  air_fff68b929994bfbd  2017-05-17\n",
       "32005       NaN  air_fff68b929994bfbd  2017-05-18\n",
       "32006       NaN  air_fff68b929994bfbd  2017-05-19\n",
       "32007       NaN  air_fff68b929994bfbd  2017-05-20\n",
       "32008       NaN  air_fff68b929994bfbd  2017-05-21\n",
       "32009       NaN  air_fff68b929994bfbd  2017-05-22\n",
       "32010       NaN  air_fff68b929994bfbd  2017-05-23\n",
       "32011       NaN  air_fff68b929994bfbd  2017-05-24\n",
       "32012       NaN  air_fff68b929994bfbd  2017-05-25\n",
       "32013       NaN  air_fff68b929994bfbd  2017-05-26\n",
       "32014       NaN  air_fff68b929994bfbd  2017-05-27\n",
       "32015       NaN  air_fff68b929994bfbd  2017-05-28\n",
       "32016       NaN  air_fff68b929994bfbd  2017-05-29\n",
       "32017       NaN  air_fff68b929994bfbd  2017-05-30\n",
       "32018       NaN  air_fff68b929994bfbd  2017-05-31\n",
       "\n",
       "[32019 rows x 3 columns]"
      ]
     },
     "execution_count": 681,
     "metadata": {},
     "output_type": "execute_result"
    }
   ],
   "source": [
    "sample_submission"
   ]
  },
  {
   "cell_type": "code",
   "execution_count": null,
   "metadata": {
    "collapsed": true
   },
   "outputs": [],
   "source": []
  }
 ],
 "metadata": {
  "anaconda-cloud": {},
  "kernelspec": {
   "display_name": "Python 3",
   "language": "python",
   "name": "python3"
  },
  "language_info": {
   "codemirror_mode": {
    "name": "ipython",
    "version": 3
   },
   "file_extension": ".py",
   "mimetype": "text/x-python",
   "name": "python",
   "nbconvert_exporter": "python",
   "pygments_lexer": "ipython3",
   "version": "3.6.2"
  }
 },
 "nbformat": 4,
 "nbformat_minor": 1
}
